{
 "cells": [
  {
   "cell_type": "code",
   "execution_count": 6,
   "metadata": {},
   "outputs": [],
   "source": [
    "import numpy as np\n",
    "import time\n",
    "\n",
    "import PIL.Image as Image\n",
    "import matplotlib.pylab as plt\n",
    "\n",
    "import tensorflow as tf\n",
    "import tensorflow_hub as hub"
   ]
  },
  {
   "cell_type": "code",
   "execution_count": 7,
   "metadata": {},
   "outputs": [
    {
     "name": "stdout",
     "output_type": "stream",
     "text": [
      "Found 3355 files belonging to 4 classes.\n",
      "Using 2684 files for training.\n",
      "class names for predictions : ['_BrownSpot' '_Healthy' '_Hispa' '_LeafBlast']\n"
     ]
    }
   ],
   "source": [
    "batch_size = 32\n",
    "img_height = 224\n",
    "img_width = 224\n",
    "data_root = 'Rice/rice_images'\n",
    "\n",
    "train_ds = tf.keras.preprocessing.image_dataset_from_directory(\n",
    "  str(data_root),\n",
    "  validation_split=0.2,\n",
    "  subset=\"training\",\n",
    "  seed=123,\n",
    "  image_size=(img_height, img_width),\n",
    "  batch_size=batch_size)\n",
    "\n",
    "class_names = np.array(train_ds.class_names)\n",
    "print('class names for predictions :',class_names)"
   ]
  },
  {
   "cell_type": "code",
   "execution_count": 8,
   "metadata": {},
   "outputs": [],
   "source": [
    "normalization_layer = tf.keras.layers.experimental.preprocessing.Rescaling(1./255)\n",
    "train_ds = train_ds.map(lambda x, y: (normalization_layer(x), y))"
   ]
  },
  {
   "cell_type": "code",
   "execution_count": 9,
   "metadata": {},
   "outputs": [],
   "source": [
    "AUTOTUNE = tf.data.AUTOTUNE\n",
    "train_ds = train_ds.cache().prefetch(buffer_size=AUTOTUNE)"
   ]
  },
  {
   "cell_type": "code",
   "execution_count": 10,
   "metadata": {},
   "outputs": [
    {
     "name": "stdout",
     "output_type": "stream",
     "text": [
      "(32, 224, 224, 3)\n",
      "(32,)\n"
     ]
    }
   ],
   "source": [
    "for image_batch, labels_batch in train_ds:\n",
    "  print(image_batch.shape)\n",
    "  print(labels_batch.shape)\n",
    "  break"
   ]
  },
  {
   "cell_type": "code",
   "execution_count": 3,
   "metadata": {},
   "outputs": [],
   "source": [
    "import tensorflow_hub as hub\n",
    "import os\n",
    "# Set the cache directory for TensorFlow Hub\n",
    "hub_path = 'path/to/tfhub_cache'\n",
    "os.environ['TFHUB_CACHE_DIR'] = hub_path\n",
    "\n",
    "# Now import TensorFlow Hub\n",
    "import tensorflow_hub as hub\n"
   ]
  },
  {
   "cell_type": "code",
   "execution_count": 4,
   "metadata": {},
   "outputs": [
    {
     "name": "stdout",
     "output_type": "stream",
     "text": [
      "WARNING:tensorflow:From d:\\EDI_FINAL\\.venv\\lib\\site-packages\\tensorflow_hub\\module_v2.py:126: The name tf.saved_model.load_v2 is deprecated. Please use tf.compat.v2.saved_model.load instead.\n",
      "\n"
     ]
    },
    {
     "name": "stderr",
     "output_type": "stream",
     "text": [
      "WARNING:tensorflow:From d:\\EDI_FINAL\\.venv\\lib\\site-packages\\tensorflow_hub\\module_v2.py:126: The name tf.saved_model.load_v2 is deprecated. Please use tf.compat.v2.saved_model.load instead.\n",
      "\n"
     ]
    }
   ],
   "source": [
    "feature_extractor_model = \"https://tfhub.dev/google/tf2-preview/mobilenet_v2/feature_vector/4\"\n",
    "feature_extractor_layer = hub.KerasLayer(\n",
    "    feature_extractor_model, input_shape=(224, 224, 3), trainable=False)"
   ]
  },
  {
   "cell_type": "code",
   "execution_count": 11,
   "metadata": {},
   "outputs": [
    {
     "name": "stdout",
     "output_type": "stream",
     "text": [
      "Model: \"sequential\"\n",
      "_________________________________________________________________\n",
      " Layer (type)                Output Shape              Param #   \n",
      "=================================================================\n",
      " keras_layer (KerasLayer)    (None, 1280)              2257984   \n",
      "                                                                 \n",
      " dense (Dense)               (None, 4)                 5124      \n",
      "                                                                 \n",
      "=================================================================\n",
      "Total params: 2263108 (8.63 MB)\n",
      "Trainable params: 5124 (20.02 KB)\n",
      "Non-trainable params: 2257984 (8.61 MB)\n",
      "_________________________________________________________________\n"
     ]
    },
    {
     "data": {
      "text/plain": [
       "TensorShape([32, 224, 224, 3])"
      ]
     },
     "execution_count": 11,
     "metadata": {},
     "output_type": "execute_result"
    }
   ],
   "source": [
    "num_classes = len(class_names)\n",
    "\n",
    "model = tf.keras.Sequential([\n",
    "  feature_extractor_layer,\n",
    "  tf.keras.layers.Dense(num_classes)\n",
    "])\n",
    "\n",
    "model.summary()\n",
    "image_batch.shape"
   ]
  },
  {
   "cell_type": "code",
   "execution_count": 12,
   "metadata": {},
   "outputs": [],
   "source": [
    "model.compile(\n",
    "  optimizer=tf.keras.optimizers.Adam(),\n",
    "  loss=tf.keras.losses.SparseCategoricalCrossentropy(from_logits=True),\n",
    "  metrics=['acc'])"
   ]
  },
  {
   "cell_type": "code",
   "execution_count": 13,
   "metadata": {},
   "outputs": [
    {
     "name": "stderr",
     "output_type": "stream",
     "text": [
      "d:\\EDI_FINAL\\.venv\\lib\\site-packages\\keras\\src\\engine\\training.py:3103: UserWarning: You are saving your model as an HDF5 file via `model.save()`. This file format is considered legacy. We recommend using instead the native Keras format, e.g. `model.save('my_model.keras')`.\n",
      "  saving_api.save_model(\n"
     ]
    },
    {
     "name": "stdout",
     "output_type": "stream",
     "text": [
      "WARNING:tensorflow:From C:\\Users\\Admin\\AppData\\Local\\Temp\\ipykernel_8060\\4240313299.py:9: The name tf.get_default_graph is deprecated. Please use tf.compat.v1.get_default_graph instead.\n",
      "\n"
     ]
    },
    {
     "name": "stderr",
     "output_type": "stream",
     "text": [
      "WARNING:tensorflow:From C:\\Users\\Admin\\AppData\\Local\\Temp\\ipykernel_8060\\4240313299.py:9: The name tf.get_default_graph is deprecated. Please use tf.compat.v1.get_default_graph instead.\n",
      "\n"
     ]
    },
    {
     "data": {
      "text/plain": [
       "'rice.h5.pbtxt'"
      ]
     },
     "execution_count": 13,
     "metadata": {},
     "output_type": "execute_result"
    }
   ],
   "source": [
    "\n",
    "# Save the model in h5 format\n",
    "save_path = 'rice.h5'\n",
    "model.save(save_path)\n",
    "\n",
    "# Save the model in pbtxt format\n",
    "model_dir = os.path.dirname(save_path)\n",
    "model_name = os.path.basename(save_path)\n",
    "\n",
    "tf.io.write_graph(graph_or_graph_def=tf.compat.v1.get_default_graph(), logdir=model_dir, name=model_name + '.pbtxt', as_text=True)"
   ]
  },
  {
   "cell_type": "code",
   "execution_count": 15,
   "metadata": {},
   "outputs": [
    {
     "name": "stdout",
     "output_type": "stream",
     "text": [
      "1/1 [==============================] - 1s 1s/step\n"
     ]
    }
   ],
   "source": [
    "import tensorflow as tf\n",
    "from tensorflow.keras.models import load_model\n",
    "import tensorflow_hub as hub\n",
    "from tkinter import ttk\n",
    "import tkinter as tk\n",
    "\n",
    "# Define custom objects to be loaded\n",
    "custom_objects = {'KerasLayer': hub.KerasLayer}\n",
    "\n",
    "# Load the trained model\n",
    "model = load_model('models/sugercane_model.h5', custom_objects=custom_objects)\n",
    "\n",
    "\n",
    "# Define class names\n",
    "class_names = ['Bacterial Blight', 'Healthy', 'Red Rot'] #Disease\n",
    "\n",
    "# Preprocess function\n",
    "def preprocess_image(image_path):\n",
    "    img = Image.open(image_path)\n",
    "    img = img.resize((224, 224))  # Resize image to match model input size\n",
    "    img = np.array(img) / 255.0  # Normalize pixel values\n",
    "    img = np.expand_dims(img, axis=0)  # Add batch dimension\n",
    "    return img\n",
    "\n",
    "# Prediction function\n",
    "def predict_disease(image_path):\n",
    "    img = preprocess_image(image_path)\n",
    "    prediction = model.predict(img)\n",
    "    predicted_class_index = np.argmax(prediction)\n",
    "    predicted_class = class_names[predicted_class_index]\n",
    "    return predicted_class\n",
    "\n",
    "# Tkinter UI\n",
    "class DiseasePredictorApp:\n",
    "    def __init__(self, root):\n",
    "        self.root = root\n",
    "        self.root.title(\"Disease Predictor\")\n",
    "        self.file_path = None  # Initialize file path attribute\n",
    "\n",
    "        self.image_label = tk.Label(self.root)\n",
    "        self.image_label.pack()\n",
    "\n",
    "        self.upload_button = tk.Button(self.root, text=\"Upload Image\", command=self.upload_image)\n",
    "        self.upload_button.pack()\n",
    "\n",
    "        self.predict_button = tk.Button(self.root, text=\"Predict Disease\", command=self.predict)\n",
    "        self.predict_button.pack()\n",
    "\n",
    "        self.prediction_label = tk.Label(self.root, text=\"\")\n",
    "        self.prediction_label.pack()\n",
    "\n",
    "    def upload_image(self):\n",
    "        self.file_path = filedialog.askopenfilename()\n",
    "        if self.file_path:\n",
    "            self.image = Image.open(self.file_path)\n",
    "            self.image.thumbnail((300, 300))\n",
    "            self.photo = ImageTk.PhotoImage(self.image)\n",
    "            self.image_label.config(image=self.photo)\n",
    "\n",
    "    def predict(self):\n",
    "        if self.file_path:\n",
    "            predicted_class = predict_disease(self.file_path)\n",
    "            self.prediction_label.config(text=\"Predicted Disease: \" + predicted_class)\n",
    "        else:\n",
    "            self.prediction_label.config(text=\"Please upload an image first.\")\n",
    "\n",
    "# Create Tkinter root window\n",
    "root = tk.Tk()\n",
    "app = DiseasePredictorApp(root)\n",
    "root.mainloop()\n"
   ]
  },
  {
   "cell_type": "code",
   "execution_count": 2,
   "metadata": {},
   "outputs": [
    {
     "ename": "TypeError",
     "evalue": "Error when deserializing class 'KerasLayer' using config={'name': 'keras_layer_1', 'trainable': False, 'dtype': 'float32', 'batch_input_shape': [None, 224, 224, 3], 'handle': 'https://tfhub.dev/google/tf2-preview/mobilenet_v2/feature_vector/4'}.\n\nException encountered: Trying to load a model of incompatible/unknown type. 'C:\\Users\\Admin\\AppData\\Local\\Temp\\tfhub_modules\\145bb06ec3b59b08fb564ab752bd5aa222bfb50a' contains neither 'saved_model.pb' nor 'saved_model.pbtxt'.",
     "output_type": "error",
     "traceback": [
      "\u001b[1;31m---------------------------------------------------------------------------\u001b[0m",
      "\u001b[1;31mTypeError\u001b[0m                                 Traceback (most recent call last)",
      "Cell \u001b[1;32mIn[2], line 40\u001b[0m\n\u001b[0;32m     36\u001b[0m     \u001b[38;5;28;01mreturn\u001b[39;00m tf\u001b[38;5;241m.\u001b[39mkeras\u001b[38;5;241m.\u001b[39mmodels\u001b[38;5;241m.\u001b[39mload_model(model_path, custom_objects\u001b[38;5;241m=\u001b[39mcustom_objects)\n\u001b[0;32m     38\u001b[0m \u001b[38;5;66;03m# Load all five models\u001b[39;00m\n\u001b[0;32m     39\u001b[0m models \u001b[38;5;241m=\u001b[39m {\n\u001b[1;32m---> 40\u001b[0m     \u001b[38;5;124m'\u001b[39m\u001b[38;5;124msugarcane\u001b[39m\u001b[38;5;124m'\u001b[39m: \u001b[43mload_model_with_hub\u001b[49m\u001b[43m(\u001b[49m\u001b[38;5;124;43m\"\u001b[39;49m\u001b[38;5;124;43mD:/EDI_FINAL/models/sugercane_model.h5\u001b[39;49m\u001b[38;5;124;43m\"\u001b[39;49m\u001b[43m)\u001b[49m,\n\u001b[0;32m     41\u001b[0m     \u001b[38;5;124m'\u001b[39m\u001b[38;5;124mmaize\u001b[39m\u001b[38;5;124m'\u001b[39m: load_model_with_hub(\u001b[38;5;124m\"\u001b[39m\u001b[38;5;124mD:/EDI_FINAL/models/maize_model.h5\u001b[39m\u001b[38;5;124m\"\u001b[39m),\n\u001b[0;32m     42\u001b[0m     \u001b[38;5;124m'\u001b[39m\u001b[38;5;124mcotton\u001b[39m\u001b[38;5;124m'\u001b[39m: load_model_with_hub(\u001b[38;5;124m\"\u001b[39m\u001b[38;5;124mD:/EDI_FINAL/models/cotton_model.h5\u001b[39m\u001b[38;5;124m\"\u001b[39m),\n\u001b[0;32m     43\u001b[0m     \u001b[38;5;124m'\u001b[39m\u001b[38;5;124mrice\u001b[39m\u001b[38;5;124m'\u001b[39m: load_model_with_hub(\u001b[38;5;124m\"\u001b[39m\u001b[38;5;124mD:/EDI_FINAL/models/rice.h5\u001b[39m\u001b[38;5;124m\"\u001b[39m),\n\u001b[0;32m     44\u001b[0m     \u001b[38;5;124m'\u001b[39m\u001b[38;5;124mwheat\u001b[39m\u001b[38;5;124m'\u001b[39m: load_model_with_hub(\u001b[38;5;124m\"\u001b[39m\u001b[38;5;124mD:/EDI_FINAL/models/wheat_model.h5\u001b[39m\u001b[38;5;124m\"\u001b[39m),\n\u001b[0;32m     45\u001b[0m }\n\u001b[0;32m     47\u001b[0m \u001b[38;5;66;03m# Class names for each model\u001b[39;00m\n\u001b[0;32m     48\u001b[0m class_names \u001b[38;5;241m=\u001b[39m {\n\u001b[0;32m     49\u001b[0m     \u001b[38;5;124m'\u001b[39m\u001b[38;5;124msugarcane\u001b[39m\u001b[38;5;124m'\u001b[39m: [\u001b[38;5;124m'\u001b[39m\u001b[38;5;124mBacterial Blight\u001b[39m\u001b[38;5;124m'\u001b[39m, \u001b[38;5;124m'\u001b[39m\u001b[38;5;124mHealthy\u001b[39m\u001b[38;5;124m'\u001b[39m, \u001b[38;5;124m'\u001b[39m\u001b[38;5;124mRed Rot\u001b[39m\u001b[38;5;124m'\u001b[39m],\n\u001b[0;32m     50\u001b[0m     \u001b[38;5;124m'\u001b[39m\u001b[38;5;124mmaize\u001b[39m\u001b[38;5;124m'\u001b[39m: [\u001b[38;5;124m'\u001b[39m\u001b[38;5;124mBlight\u001b[39m\u001b[38;5;124m'\u001b[39m, \u001b[38;5;124m'\u001b[39m\u001b[38;5;124mCommon_Rust\u001b[39m\u001b[38;5;124m'\u001b[39m, \u001b[38;5;124m'\u001b[39m\u001b[38;5;124mGray_Leaf_Spot,Healthy\u001b[39m\u001b[38;5;124m'\u001b[39m],  \u001b[38;5;66;03m# Replace with your actual class names\u001b[39;00m\n\u001b[1;32m   (...)\u001b[0m\n\u001b[0;32m     53\u001b[0m     \u001b[38;5;124m'\u001b[39m\u001b[38;5;124mwheat\u001b[39m\u001b[38;5;124m'\u001b[39m: [\u001b[38;5;124m'\u001b[39m\u001b[38;5;124mHealthy\u001b[39m\u001b[38;5;124m'\u001b[39m, \u001b[38;5;124m'\u001b[39m\u001b[38;5;124mseptoria\u001b[39m\u001b[38;5;124m'\u001b[39m, \u001b[38;5;124m'\u001b[39m\u001b[38;5;124mstrip_rust\u001b[39m\u001b[38;5;124m'\u001b[39m],  \u001b[38;5;66;03m# Replace with your actual class names\u001b[39;00m\n\u001b[0;32m     54\u001b[0m }\n",
      "Cell \u001b[1;32mIn[2], line 36\u001b[0m, in \u001b[0;36mload_model_with_hub\u001b[1;34m(model_path)\u001b[0m\n\u001b[0;32m     33\u001b[0m \u001b[38;5;28;01mdef\u001b[39;00m \u001b[38;5;21mload_model_with_hub\u001b[39m(model_path):\n\u001b[0;32m     34\u001b[0m     \u001b[38;5;66;03m# Define a custom object scope to include the KerasLayer\u001b[39;00m\n\u001b[0;32m     35\u001b[0m     custom_objects \u001b[38;5;241m=\u001b[39m {\u001b[38;5;124m\"\u001b[39m\u001b[38;5;124mKerasLayer\u001b[39m\u001b[38;5;124m\"\u001b[39m: hub\u001b[38;5;241m.\u001b[39mKerasLayer}\n\u001b[1;32m---> 36\u001b[0m     \u001b[38;5;28;01mreturn\u001b[39;00m \u001b[43mtf\u001b[49m\u001b[38;5;241;43m.\u001b[39;49m\u001b[43mkeras\u001b[49m\u001b[38;5;241;43m.\u001b[39;49m\u001b[43mmodels\u001b[49m\u001b[38;5;241;43m.\u001b[39;49m\u001b[43mload_model\u001b[49m\u001b[43m(\u001b[49m\u001b[43mmodel_path\u001b[49m\u001b[43m,\u001b[49m\u001b[43m \u001b[49m\u001b[43mcustom_objects\u001b[49m\u001b[38;5;241;43m=\u001b[39;49m\u001b[43mcustom_objects\u001b[49m\u001b[43m)\u001b[49m\n",
      "File \u001b[1;32md:\\EDI_FINAL\\.venv\\lib\\site-packages\\keras\\src\\saving\\saving_api.py:262\u001b[0m, in \u001b[0;36mload_model\u001b[1;34m(filepath, custom_objects, compile, safe_mode, **kwargs)\u001b[0m\n\u001b[0;32m    254\u001b[0m     \u001b[38;5;28;01mreturn\u001b[39;00m saving_lib\u001b[38;5;241m.\u001b[39mload_model(\n\u001b[0;32m    255\u001b[0m         filepath,\n\u001b[0;32m    256\u001b[0m         custom_objects\u001b[38;5;241m=\u001b[39mcustom_objects,\n\u001b[0;32m    257\u001b[0m         \u001b[38;5;28mcompile\u001b[39m\u001b[38;5;241m=\u001b[39m\u001b[38;5;28mcompile\u001b[39m,\n\u001b[0;32m    258\u001b[0m         safe_mode\u001b[38;5;241m=\u001b[39msafe_mode,\n\u001b[0;32m    259\u001b[0m     )\n\u001b[0;32m    261\u001b[0m \u001b[38;5;66;03m# Legacy case.\u001b[39;00m\n\u001b[1;32m--> 262\u001b[0m \u001b[38;5;28;01mreturn\u001b[39;00m legacy_sm_saving_lib\u001b[38;5;241m.\u001b[39mload_model(\n\u001b[0;32m    263\u001b[0m     filepath, custom_objects\u001b[38;5;241m=\u001b[39mcustom_objects, \u001b[38;5;28mcompile\u001b[39m\u001b[38;5;241m=\u001b[39m\u001b[38;5;28mcompile\u001b[39m, \u001b[38;5;241m*\u001b[39m\u001b[38;5;241m*\u001b[39mkwargs\n\u001b[0;32m    264\u001b[0m )\n",
      "File \u001b[1;32md:\\EDI_FINAL\\.venv\\lib\\site-packages\\keras\\src\\utils\\traceback_utils.py:70\u001b[0m, in \u001b[0;36mfilter_traceback.<locals>.error_handler\u001b[1;34m(*args, **kwargs)\u001b[0m\n\u001b[0;32m     67\u001b[0m     filtered_tb \u001b[38;5;241m=\u001b[39m _process_traceback_frames(e\u001b[38;5;241m.\u001b[39m__traceback__)\n\u001b[0;32m     68\u001b[0m     \u001b[38;5;66;03m# To get the full stack trace, call:\u001b[39;00m\n\u001b[0;32m     69\u001b[0m     \u001b[38;5;66;03m# `tf.debugging.disable_traceback_filtering()`\u001b[39;00m\n\u001b[1;32m---> 70\u001b[0m     \u001b[38;5;28;01mraise\u001b[39;00m e\u001b[38;5;241m.\u001b[39mwith_traceback(filtered_tb) \u001b[38;5;28;01mfrom\u001b[39;00m \u001b[38;5;28;01mNone\u001b[39;00m\n\u001b[0;32m     71\u001b[0m \u001b[38;5;28;01mfinally\u001b[39;00m:\n\u001b[0;32m     72\u001b[0m     \u001b[38;5;28;01mdel\u001b[39;00m filtered_tb\n",
      "File \u001b[1;32md:\\EDI_FINAL\\.venv\\lib\\site-packages\\keras\\src\\engine\\base_layer.py:870\u001b[0m, in \u001b[0;36mLayer.from_config\u001b[1;34m(cls, config)\u001b[0m\n\u001b[0;32m    868\u001b[0m     \u001b[38;5;28;01mreturn\u001b[39;00m \u001b[38;5;28mcls\u001b[39m(\u001b[38;5;241m*\u001b[39m\u001b[38;5;241m*\u001b[39mconfig)\n\u001b[0;32m    869\u001b[0m \u001b[38;5;28;01mexcept\u001b[39;00m \u001b[38;5;167;01mException\u001b[39;00m \u001b[38;5;28;01mas\u001b[39;00m e:\n\u001b[1;32m--> 870\u001b[0m     \u001b[38;5;28;01mraise\u001b[39;00m \u001b[38;5;167;01mTypeError\u001b[39;00m(\n\u001b[0;32m    871\u001b[0m         \u001b[38;5;124mf\u001b[39m\u001b[38;5;124m\"\u001b[39m\u001b[38;5;124mError when deserializing class \u001b[39m\u001b[38;5;124m'\u001b[39m\u001b[38;5;132;01m{\u001b[39;00m\u001b[38;5;28mcls\u001b[39m\u001b[38;5;241m.\u001b[39m\u001b[38;5;18m__name__\u001b[39m\u001b[38;5;132;01m}\u001b[39;00m\u001b[38;5;124m'\u001b[39m\u001b[38;5;124m using \u001b[39m\u001b[38;5;124m\"\u001b[39m\n\u001b[0;32m    872\u001b[0m         \u001b[38;5;124mf\u001b[39m\u001b[38;5;124m\"\u001b[39m\u001b[38;5;124mconfig=\u001b[39m\u001b[38;5;132;01m{\u001b[39;00mconfig\u001b[38;5;132;01m}\u001b[39;00m\u001b[38;5;124m.\u001b[39m\u001b[38;5;130;01m\\n\u001b[39;00m\u001b[38;5;130;01m\\n\u001b[39;00m\u001b[38;5;124mException encountered: \u001b[39m\u001b[38;5;132;01m{\u001b[39;00me\u001b[38;5;132;01m}\u001b[39;00m\u001b[38;5;124m\"\u001b[39m\n\u001b[0;32m    873\u001b[0m     )\n",
      "\u001b[1;31mTypeError\u001b[0m: Error when deserializing class 'KerasLayer' using config={'name': 'keras_layer_1', 'trainable': False, 'dtype': 'float32', 'batch_input_shape': [None, 224, 224, 3], 'handle': 'https://tfhub.dev/google/tf2-preview/mobilenet_v2/feature_vector/4'}.\n\nException encountered: Trying to load a model of incompatible/unknown type. 'C:\\Users\\Admin\\AppData\\Local\\Temp\\tfhub_modules\\145bb06ec3b59b08fb564ab752bd5aa222bfb50a' contains neither 'saved_model.pb' nor 'saved_model.pbtxt'."
     ]
    }
   ],
   "source": [
    "import tkinter as tk\n",
    "from tkinter import filedialog\n",
    "from PIL import Image, ImageTk\n",
    "import tensorflow as tf\n",
    "import numpy as np\n",
    "import tensorflow_hub as hub\n",
    "\n",
    "# Dictionary mapping diseases to recommended pesticides\n",
    "pesticide_recommendations = {\n",
    "    'Bacterial Blight': 'Copper-based fungicides, Streptomycin',\n",
    "    'Red Rot': 'Fungicides containing Mancozeb or Copper',\n",
    "    'Blight': 'Fungicides containing Chlorothalonil',\n",
    "    'Common_Rust': 'Fungicides containing Azoxystrobin or Propiconazole',\n",
    "    'Gray_Leaf_Spot,Healthy': 'Fungicides containing Azoxystrobin or Propiconazole',\n",
    "    'Bacterial blight': 'Copper-based fungicides, Streptomycin',\n",
    "    'curl_virus': 'Insecticides such as Imidacloprid or Pyrethroids',\n",
    "    'fussarium_wilt': 'Soil fumigants, Fungicides containing Thiophanate-methyl',\n",
    "    'Bacterial_blight': 'Copper-based fungicides, Streptomycin',\n",
    "    'Blast': 'Fungicides containing Tricyclazole or Propiconazole',\n",
    "    'Brownspot': 'Fungicides containing Azoxystrobin or Propiconazole',\n",
    "    'Tungro': 'Insecticides such as Neonicotinoids or Pyrethroids',\n",
    "    'septoria': 'Fungicides containing Azoxystrobin or Propiconazole',\n",
    "    'strip_rust': 'Fungicides containing Azoxystrobin or Propiconazole'\n",
    "}\n",
    "\n",
    "# Function to recommend pesticide based on predicted disease\n",
    "def recommend_pesticide(predicted_class):\n",
    "    if predicted_class == 'Healthy':\n",
    "        return 'No need for any pesticide, plant is healthy'\n",
    "    return pesticide_recommendations.get(predicted_class, \"No recommendation available\")\n",
    "\n",
    "# Function to load a model with TensorFlow Hub layer\n",
    "def load_model_with_hub(model_path):\n",
    "    # Define a custom object scope to include the KerasLayer\n",
    "    custom_objects = {\"KerasLayer\": hub.KerasLayer}\n",
    "    return tf.keras.models.load_model(model_path, custom_objects=custom_objects)\n",
    "\n",
    "# Load all five models\n",
    "models = {\n",
    "    'sugarcane': load_model_with_hub(\"models/sugercane_model.h5\"),\n",
    "    'maize': load_model_with_hub(\"models/maize_model.h5\"),\n",
    "    'cotton': load_model_with_hub(\"models/cotton_model.h5\"),\n",
    "    'rice': load_model_with_hub(\"models/rice.h5\"),\n",
    "    'wheat': load_model_with_hub(\"models/wheat_model.h5\"),\n",
    "}\n",
    "\n",
    "# Class names for each model\n",
    "class_names = {\n",
    "    'sugarcane': ['Bacterial Blight', 'Healthy', 'Red Rot'],\n",
    "    'maize': ['Blight', 'Common_Rust', 'Gray_Leaf_Spot,Healthy'],  # Replace with your actual class names\n",
    "    'cotton': ['Bacterial blight','curl_virus', 'fussarium_wilt', 'Healthy'],  # Replace with your actual class names\n",
    "    'rice': ['Bacterial_blight', 'Blast', 'Brownspot', 'Tungro'],  # Replace with your actual class names\n",
    "    'wheat': ['Healthy', 'septoria', 'strip_rust'],  # Replace with your actual class names\n",
    "}\n",
    "\n",
    "# Function to preprocess an input image\n",
    "def preprocess_image(image_path):\n",
    "    img = tf.keras.preprocessing.image.load_img(image_path, target_size=(224, 224))\n",
    "    img_array = tf.keras.preprocessing.image.img_to_array(img)\n",
    "    img_array = tf.expand_dims(img_array, 0)  # Create batch axis\n",
    "    img_array /= 255.0  # Normalize the image\n",
    "    return img_array\n",
    "\n",
    "# Function to classify an image using the selected model\n",
    "def classify_image(model_name, file_path):\n",
    "    input_image = preprocess_image(file_path)\n",
    "    predictions = models[model_name].predict(input_image)\n",
    "    predicted_class = class_names[model_name][np.argmax(predictions)]\n",
    "    recommended_pesticide = recommend_pesticide(predicted_class)\n",
    "    result_label.config(text=f\"Predicted Class ({model_name}): {predicted_class}\\nRecommended Pesticide: {recommended_pesticide}\", font=(\"Times New Roman\", 12, \"bold\"))\n",
    "\n",
    "    # Display the input image below the buttons\n",
    "    img = Image.open(file_path)\n",
    "    img.thumbnail((400, 300)) \n",
    "    img_tk = ImageTk.PhotoImage(img)\n",
    "    input_image_label.config(image=img_tk)\n",
    "    input_image_label.image = img_tk\n",
    "\n",
    "# Function to handle the \"Browse Image\" button\n",
    "def browse_image():\n",
    "    file_path = filedialog.askopenfilename(initialdir=\"/\", title=\"Select Image\",\n",
    "                                           filetypes=((\"Image files\", \"*.png;*.jpg;*.jpeg\"), (\"all files\", \"*.*\")))\n",
    "    if file_path:\n",
    "        browse_label.config(text=f\"Selected Image: {file_path}\")\n",
    "        # Enable plant type buttons\n",
    "        sugarcane_button.config(state=tk.NORMAL)\n",
    "        maize_button.config(state=tk.NORMAL)\n",
    "        cotton_button.config(state=tk.NORMAL)\n",
    "        rice_button.config(state=tk.NORMAL)\n",
    "        wheat_button.config(state=tk.NORMAL)\n",
    "        # Save file path for later use\n",
    "        browse_image.file_path = file_path\n",
    "\n",
    "# Create the main Tkinter window\n",
    "root = tk.Tk()\n",
    "root.title(\"Plant Disease Classification and Pesticide Recommendation\")\n",
    "\n",
    "root.geometry(\"700x750\")\n",
    "\n",
    "# Create widgets\n",
    "browse_button = tk.Button(root, text=\"Browse Image\", command=browse_image)\n",
    "browse_label = tk.Label(root, text=\"Selected Image: \")\n",
    "\n",
    "button_frame = tk.Frame(root)\n",
    "\n",
    "sugarcane_button = tk.Button(button_frame, text=\"Sugarcane\", command=lambda: classify_image('sugarcane', browse_image.file_path), state=tk.DISABLED)\n",
    "maize_button = tk.Button(button_frame, text=\"Maize\", command=lambda: classify_image('maize', browse_image.file_path), state=tk.DISABLED)\n",
    "cotton_button = tk.Button(button_frame, text=\"Cotton\", command=lambda: classify_image('cotton', browse_image.file_path), state=tk.DISABLED)\n",
    "rice_button = tk.Button(button_frame, text=\"Rice\", command=lambda: classify_image('rice', browse_image.file_path), state=tk.DISABLED)\n",
    "wheat_button = tk.Button(button_frame, text=\"Wheat\", command=lambda: classify_image('wheat', browse_image.file_path), state=tk.DISABLED)\n",
    "\n",
    "result_label = tk.Label(root, text=\"Predicted Class: \", font=(\"Times New Roman\", 11, \"bold\"))\n",
    "input_image_label = tk.Label(root)\n",
    "\n",
    "# Arrange widgets in the layout\n",
    "browse_button.pack(pady=10)\n",
    "browse_label.pack(pady=5)\n",
    "\n",
    "button_frame.pack(pady=10)\n",
    "sugarcane_button.pack(side=\"left\", padx=5)\n",
    "maize_button.pack(side=\"left\", padx=5)\n",
    "cotton_button.pack(side=\"left\", padx=5)\n",
    "rice_button.pack(side=\"left\", padx=5)\n",
    "wheat_button.pack(side=\"left\", padx=5)\n",
    "\n",
    "result_label.pack()\n",
    "input_image_label.pack(pady=10)\n",
    "\n",
    "# Run the Tkinter main loop\n",
    "root.mainloop()\n",
    "    "
   ]
  }
 ],
 "metadata": {
  "kernelspec": {
   "display_name": ".venv",
   "language": "python",
   "name": "python3"
  },
  "language_info": {
   "codemirror_mode": {
    "name": "ipython",
    "version": 3
   },
   "file_extension": ".py",
   "mimetype": "text/x-python",
   "name": "python",
   "nbconvert_exporter": "python",
   "pygments_lexer": "ipython3",
   "version": "3.10.11"
  }
 },
 "nbformat": 4,
 "nbformat_minor": 2
}
